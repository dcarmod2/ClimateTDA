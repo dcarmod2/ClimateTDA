{
 "cells": [
  {
   "cell_type": "code",
   "execution_count": 1,
   "metadata": {},
   "outputs": [
    {
     "name": "stdout",
     "output_type": "stream",
     "text": [
      "Python 3.6.11\n"
     ]
    }
   ],
   "source": [
    "!python -V"
   ]
  },
  {
   "cell_type": "code",
   "execution_count": 2,
   "metadata": {},
   "outputs": [
    {
     "name": "stdout",
     "output_type": "stream",
     "text": [
      "# packages in environment at C:\\Users\\danie\\anaconda3\\envs\\osic:\n",
      "#\n",
      "# Name                    Version                   Build  Channel\n",
      "appdirs                   1.4.4                      py_0  \n",
      "argon2-cffi               20.1.0           py36he774522_1  \n",
      "async_generator           1.10             py36h28b3542_0  \n",
      "atomicwrites              1.4.0                    pypi_0    pypi\n",
      "attrs                     20.2.0                     py_0  \n",
      "black                     20.8b1                     py_1    conda-forge\n",
      "blas                      1.0                         mkl  \n",
      "bleach                    3.2.1                      py_0  \n",
      "boost-cpp                 1.72.0               hd4e6614_3    conda-forge\n",
      "bzip2                     1.0.8                he774522_3    conda-forge\n",
      "ca-certificates           2020.6.20            hecda079_0    conda-forge\n",
      "certifi                   2020.6.20        py36hd36e781_2    conda-forge\n",
      "cffi                      1.14.3           py36h7a1dbc1_0  \n",
      "cgal-cpp                  5.0.3                h566e9aa_1    conda-forge\n",
      "click                     7.1.2                      py_0  \n",
      "cloudpickle               1.6.0                      py_0  \n",
      "colorama                  0.4.3                      py_0  \n",
      "cycler                    0.10.0           py36h009560c_0  \n",
      "cytoolz                   0.11.0           py36he774522_0  \n",
      "dask-core                 2.30.0                     py_0  \n",
      "dataclasses               0.7                      py36_0  \n",
      "decorator                 4.4.2                      py_0  \n",
      "defusedxml                0.6.0                      py_0  \n",
      "eigen                     3.3.7             he980bc4_1001    conda-forge\n",
      "entrypoints               0.3                      py36_0  \n",
      "freetype                  2.10.3               hd328e21_0  \n",
      "gdcm                      2.8.4               py36_vc14_0    conda-forge\n",
      "gudhi                     3.3.0            py36hc72c8a1_1    conda-forge\n",
      "icc_rt                    2019.0.0             h0cc432a_1  \n",
      "icu                       58.2                 ha925a31_3  \n",
      "imagecodecs               2020.5.30                pypi_0    pypi\n",
      "imageio                   2.9.0                      py_0    conda-forge\n",
      "importlib-metadata        2.0.0                      py_1  \n",
      "importlib_metadata        2.0.0                         1  \n",
      "iniconfig                 1.0.1                    pypi_0    pypi\n",
      "intel-openmp              2020.1                      216  \n",
      "ipykernel                 5.3.4            py36h5ca1d4c_0  \n",
      "ipython                   5.8.0                    py36_1    conda-forge\n",
      "ipython_genutils          0.2.0                    py36_0  \n",
      "ipywidgets                7.5.1                      py_1  \n",
      "jinja2                    2.11.2                     py_0  \n",
      "joblib                    0.17.0                     py_0  \n",
      "jpeg                      9b                   hb83a4c4_2  \n",
      "jsonschema                3.2.0                      py_2  \n",
      "jupyter                   1.0.0                      py_2    conda-forge\n",
      "jupyter_client            6.1.7                      py_0  \n",
      "jupyter_console           5.2.0                    py36_1  \n",
      "jupyter_core              4.6.3                    py36_0  \n",
      "jupyterlab_pygments       0.1.2                      py_0  \n",
      "kiwisolver                1.2.0            py36h74a9793_0  \n",
      "libblas                   3.8.0                    16_mkl    conda-forge\n",
      "libcblas                  3.8.0                    16_mkl    conda-forge\n",
      "liblapack                 3.8.0                    16_mkl    conda-forge\n",
      "libpng                    1.6.37               h2a8f88b_0  \n",
      "libsodium                 1.0.18               h62dcd97_0  \n",
      "libtiff                   4.1.0                h56a325e_1  \n",
      "lz4-c                     1.9.2                hf4a77e7_3  \n",
      "m2w64-gcc-libgfortran     5.3.0                         6  \n",
      "m2w64-gcc-libs            5.3.0                         7  \n",
      "m2w64-gcc-libs-core       5.3.0                         7  \n",
      "m2w64-gmp                 6.1.0                         2  \n",
      "m2w64-libwinpthread-git   5.0.0.4634.697f757               2  \n",
      "markupsafe                1.1.1            py36he774522_0  \n",
      "matplotlib-base           3.3.1            py36hba9282a_0  \n",
      "mistune                   0.8.4            py36he774522_0  \n",
      "mkl                       2020.1                      216  \n",
      "mkl-service               2.3.0            py36hb782905_0  \n",
      "more-itertools            8.5.0                    pypi_0    pypi\n",
      "mpfr                      4.0.2                h62dcd97_1    conda-forge\n",
      "mpir                      3.0.0             he025d50_1002    conda-forge\n",
      "msys2-conda-epoch         20160418                      1  \n",
      "mypy_extensions           0.4.3                    py36_0  \n",
      "natsort                   7.0.1                    pypi_0    pypi\n",
      "nb-black                  1.0.7                    pypi_0    pypi\n",
      "nbclient                  0.5.0                      py_0  \n",
      "nbconvert                 6.0.7                    py36_0  \n",
      "nbformat                  5.0.7                      py_0  \n",
      "nest-asyncio              1.4.1                      py_0  \n",
      "networkx                  2.5                        py_0  \n",
      "notebook                  6.1.4                    py36_0  \n",
      "numpy                     1.19.1           py36h12ee977_2    conda-forge\n",
      "olefile                   0.46                     py36_0  \n",
      "openssl                   1.1.1h               he774522_0    conda-forge\n",
      "packaging                 20.4                       py_0  \n",
      "pandas                    1.1.2            py36h003fed8_0    conda-forge\n",
      "pandoc                    2.11                 h9490d1a_0  \n",
      "pandocfilters             1.4.2                    py36_1  \n",
      "pathlib                   1.0.1                    pypi_0    pypi\n",
      "pathspec                  0.7.0                      py_0  \n",
      "patsy                     0.5.1                    py36_0  \n",
      "pickleshare               0.7.5                    py36_0  \n",
      "pillow                    7.2.0            py36hcc1f983_0  \n",
      "pip                       20.2.3                   py36_0  \n",
      "pluggy                    0.13.1                   pypi_0    pypi\n",
      "prometheus_client         0.8.0                      py_0  \n",
      "prompt_toolkit            1.0.15           py36h60b8f86_0  \n",
      "py                        1.9.0                    pypi_0    pypi\n",
      "pycparser                 2.20                       py_2  \n",
      "pydicom                   2.0.0              pyh9f0ad1d_0    conda-forge\n",
      "pygments                  2.7.1                      py_0  \n",
      "pyparsing                 2.4.7                      py_0  \n",
      "pyqt                      5.9.2            py36h6538335_2  \n",
      "pyrsistent                0.17.3           py36he774522_0  \n",
      "pytest                    6.0.2                    pypi_0    pypi\n",
      "python                    3.6.11          h6f26aa1_2_cpython    conda-forge\n",
      "python-dateutil           2.8.1                      py_0  \n",
      "python_abi                3.6                     1_cp36m    conda-forge\n",
      "pytz                      2020.1                     py_0  \n",
      "pywavelets                1.1.1            py36he774522_2  \n",
      "pywin32                   227              py36he774522_1  \n",
      "pywinpty                  0.5.7                    py36_0  \n",
      "pyyaml                    5.3.1            py36he774522_1  \n",
      "pyzmq                     19.0.2           py36ha925a31_1  \n",
      "qt                        5.9.7            vc14h73c81de_0  \n",
      "qtconsole                 4.7.7                      py_0  \n",
      "qtpy                      1.9.0                      py_0  \n",
      "regex                     2020.10.11       py36he774522_0  \n",
      "scikit-image              0.17.2           py36hd7f5668_2    conda-forge\n",
      "scikit-learn              0.23.2           py36h11277ef_0    conda-forge\n",
      "scipy                     1.5.2            py36h9439919_0  \n",
      "seaborn                   0.11.0                        0    conda-forge\n",
      "seaborn-base              0.11.0                     py_0    conda-forge\n",
      "send2trash                1.5.0                    py36_0  \n",
      "setuptools                50.3.0           py36h9490d1a_1  \n",
      "simplegeneric             0.8.1                    py36_2  \n",
      "sip                       4.19.8           py36h6538335_0  \n",
      "six                       1.15.0                     py_0  \n",
      "sqlite                    3.33.0               h2a8f88b_0  \n",
      "statsmodels               0.12.0           py36he774522_0  \n",
      "terminado                 0.9.1                    py36_0  \n",
      "testpath                  0.4.4                      py_0  \n",
      "threadpoolctl             2.1.0              pyh5ca1d4c_0  \n",
      "tifffile                  2020.10.1        py36h8c2d366_2  \n",
      "tk                        8.6.10               he774522_0  \n",
      "toml                      0.10.1                     py_0  \n",
      "toolz                     0.11.1                     py_0  \n",
      "tornado                   6.0.4            py36he774522_1  \n",
      "tqdm                      4.49.0                   pypi_0    pypi\n",
      "traitlets                 4.3.3                    py36_0  \n",
      "typed-ast                 1.4.1            py36he774522_0  \n",
      "typing_extensions         3.7.4.3                    py_0  \n",
      "vc                        14.1                 h0510ff6_4  \n",
      "vs2015_runtime            14.16.27012          hf0eaf9b_3  \n",
      "wcwidth                   0.2.5                      py_0  \n",
      "webencodings              0.5.1                    py36_1  \n",
      "wheel                     0.35.1                     py_0  \n",
      "widgetsnbextension        3.5.1                    py36_0  \n",
      "wincertstore              0.2              py36h7fe50ca_0  \n",
      "winpty                    0.4.3                         4  \n",
      "xgboost                   1.2.0                    pypi_0    pypi\n",
      "xz                        5.2.5                h62dcd97_0  \n",
      "yaml                      0.2.5                he774522_0  \n",
      "zeromq                    4.3.2                ha925a31_3  \n",
      "zipp                      3.3.0                      py_0  \n",
      "zlib                      1.2.11               h62dcd97_4  \n",
      "zstd                      1.4.5                h04227a9_0  \n"
     ]
    }
   ],
   "source": [
    "!conda list"
   ]
  },
  {
   "cell_type": "code",
   "execution_count": 3,
   "metadata": {},
   "outputs": [],
   "source": [
    "import numpy as np\n",
    "import gudhi as gd\n",
    "import matplotlib.pyplot as plt"
   ]
  },
  {
   "cell_type": "code",
   "execution_count": 4,
   "metadata": {},
   "outputs": [],
   "source": [
    "test_im_1 = np.random.random((64,64))\n",
    "test_im_2 = np.random.random((64,64))"
   ]
  },
  {
   "cell_type": "code",
   "execution_count": 5,
   "metadata": {},
   "outputs": [],
   "source": [
    "pts_1 = np.argwhere(test_im_1 > 0.75)\n",
    "pts_2 = np.argwhere(test_im_2 > 0.75)"
   ]
  },
  {
   "cell_type": "code",
   "execution_count": 6,
   "metadata": {},
   "outputs": [],
   "source": [
    "ac1 = gd.AlphaComplex(pts_1)\n",
    "ac2 = gd.AlphaComplex(pts_2)"
   ]
  },
  {
   "cell_type": "code",
   "execution_count": 7,
   "metadata": {},
   "outputs": [],
   "source": [
    "st1 = ac1.create_simplex_tree()\n",
    "st2 = ac2.create_simplex_tree()"
   ]
  },
  {
   "cell_type": "code",
   "execution_count": 8,
   "metadata": {},
   "outputs": [],
   "source": [
    "pers1 = st1.persistence()\n",
    "pers2 = st2.persistence()"
   ]
  },
  {
   "cell_type": "code",
   "execution_count": 9,
   "metadata": {},
   "outputs": [
    {
     "data": {
      "image/png": "[encoded data removed]",
      "text/plain": [
       "<Figure size 432x288 with 1 Axes>"
      ]
     },
     "metadata": {
      "needs_background": "light"
     },
     "output_type": "display_data"
    }
   ],
   "source": [
    "gd.plot_persistence_diagram(pers1)\n",
    "plt.show()"
   ]
  },
  {
   "cell_type": "code",
   "execution_count": 10,
   "metadata": {},
   "outputs": [
    {
     "data": {
      "image/png": "[encoded data removed]",
      "text/plain": [
       "<Figure size 432x288 with 1 Axes>"
      ]
     },
     "metadata": {
      "needs_background": "light"
     },
     "output_type": "display_data"
    }
   ],
   "source": [
    "gd.plot_persistence_diagram(pers2)\n",
    "plt.show()"
   ]
  },
  {
   "cell_type": "code",
   "execution_count": 18,
   "metadata": {},
   "outputs": [],
   "source": [
    "diag1 = np.vstack([st1.persistence_intervals_in_dimension(i) for i in range(0,2)]) \n",
    "diag2 = np.vstack([st2.persistence_intervals_in_dimension(i) for i in range(0,2)]) "
   ]
  },
  {
   "cell_type": "code",
   "execution_count": 19,
   "metadata": {},
   "outputs": [
    {
     "data": {
      "text/plain": [
       "5.7861328125"
      ]
     },
     "execution_count": 19,
     "metadata": {},
     "output_type": "execute_result"
    }
   ],
   "source": [
    "gd.bottleneck_distance(diag1,diag2)"
   ]
  }
 ],
 "metadata": {
  "kernelspec": {
   "display_name": "Python 3",
   "language": "python",
   "name": "python3"
  },
  "language_info": {
   "codemirror_mode": {
    "name": "ipython",
    "version": 3
   },
   "file_extension": ".py",
   "mimetype": "text/x-python",
   "name": "python",
   "nbconvert_exporter": "python",
   "pygments_lexer": "ipython3",
   "version": "3.6.11"
  }
 },
 "nbformat": 4,
 "nbformat_minor": 4
}
